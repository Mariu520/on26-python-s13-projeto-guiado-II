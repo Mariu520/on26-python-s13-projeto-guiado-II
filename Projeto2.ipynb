{
 "cells": [
  {
   "cell_type": "code",
   "execution_count": 3,
   "id": "ce6a0f34-b289-4d71-b331-859f5e5e4446",
   "metadata": {
    "tags": []
   },
   "outputs": [],
   "source": [
    "import pandas as pd\n",
    "import matplotlib.pyplot as plt\n"
   ]
  },
  {
   "cell_type": "code",
   "execution_count": 4,
   "id": "1433ccf3-b668-44fa-810c-3da8b0f4a9d4",
   "metadata": {
    "tags": []
   },
   "outputs": [],
   "source": [
    "#lendo o arquivo csv com seu separador e encoding\n",
    "\n",
    "df = pd.read_csv(\"Indústria_da_pesca_por_país.csv \", sep=\",\" , encoding= 'UTF-8') "
   ]
  },
  {
   "cell_type": "code",
   "execution_count": 5,
   "id": "4f2c513c-34fd-4956-9873-80658dc8f63d",
   "metadata": {
    "tags": []
   },
   "outputs": [
    {
     "name": "stdout",
     "output_type": "stream",
     "text": [
      "<class 'pandas.core.frame.DataFrame'>\n"
     ]
    }
   ],
   "source": [
    "# Mostrando que tipo é o df\n",
    "\n",
    "print(type(df))"
   ]
  },
  {
   "cell_type": "code",
   "execution_count": 6,
   "id": "ace108bf-e3c9-4d25-b239-e3e57fd802f9",
   "metadata": {
    "tags": []
   },
   "outputs": [
    {
     "name": "stdout",
     "output_type": "stream",
     "text": [
      "País           0\n",
      "Capture        0\n",
      "Aquicultura    0\n",
      "Total          0\n",
      "dtype: int64\n"
     ]
    }
   ],
   "source": [
    "#contar nulos\n",
    "import pandas as pd\n",
    "\n",
    "# Carregar os dados do arquivo 'energia_brasil.csv' em um DataFrame\n",
    "df = pd.read_csv('Indústria_da_pesca_por_país.csv', encoding='UTF-8')\n",
    "\n",
    "# Especificar as colunas para contar os valores nulos\n",
    "colunas = ['País', 'Capture', 'Aquicultura', 'Total']\n",
    "\n",
    "# Contar os valores nulos nas colunas especificadas\n",
    "contagem_nulos = df[colunas].isnull().sum()\n",
    "\n",
    "# Imprimir a contagem de valores nulos\n",
    "print(contagem_nulos)\n"
   ]
  },
  {
   "cell_type": "code",
   "execution_count": 7,
   "id": "f14c08f5-07a9-4ac2-b279-7208c418cdb2",
   "metadata": {
    "tags": []
   },
   "outputs": [],
   "source": [
    "df = pd.read_csv(\"Indústria_da_pesca_por_país.csv\", sep=\",\" , encoding= 'UTF-8')"
   ]
  },
  {
   "cell_type": "code",
   "execution_count": 8,
   "id": "0eccb653-9cd0-4923-b068-a0f4dc6829ea",
   "metadata": {
    "tags": []
   },
   "outputs": [
    {
     "data": {
      "text/plain": [
       "País           object\n",
       "Capture         int64\n",
       "Aquicultura     int64\n",
       "Total           int64\n",
       "dtype: object"
      ]
     },
     "execution_count": 8,
     "metadata": {},
     "output_type": "execute_result"
    }
   ],
   "source": [
    "df.dtypes"
   ]
  },
  {
   "cell_type": "code",
   "execution_count": 9,
   "id": "74159bed-d5fc-4118-bf05-d573b44001db",
   "metadata": {},
   "outputs": [
    {
     "name": "stdout",
     "output_type": "stream",
     "text": [
      "<class 'pandas.core.frame.DataFrame'>\n",
      "RangeIndex: 217 entries, 0 to 216\n",
      "Data columns (total 4 columns):\n",
      " #   Column       Non-Null Count  Dtype \n",
      "---  ------       --------------  ----- \n",
      " 0   País         217 non-null    object\n",
      " 1   Capture      217 non-null    int64 \n",
      " 2   Aquicultura  217 non-null    int64 \n",
      " 3   Total        217 non-null    int64 \n",
      "dtypes: int64(3), object(1)\n",
      "memory usage: 19.3 KB\n"
     ]
    }
   ],
   "source": [
    "df.info(memory_usage=\"deep\")"
   ]
  },
  {
   "cell_type": "code",
   "execution_count": 10,
   "id": "7022920b-2f38-4d66-aa2e-13f92a775acc",
   "metadata": {
    "tags": []
   },
   "outputs": [
    {
     "data": {
      "text/html": [
       "<div>\n",
       "<style scoped>\n",
       "    .dataframe tbody tr th:only-of-type {\n",
       "        vertical-align: middle;\n",
       "    }\n",
       "\n",
       "    .dataframe tbody tr th {\n",
       "        vertical-align: top;\n",
       "    }\n",
       "\n",
       "    .dataframe thead th {\n",
       "        text-align: right;\n",
       "    }\n",
       "</style>\n",
       "<table border=\"1\" class=\"dataframe\">\n",
       "  <thead>\n",
       "    <tr style=\"text-align: right;\">\n",
       "      <th></th>\n",
       "      <th>País</th>\n",
       "      <th>Capture</th>\n",
       "      <th>Aquicultura</th>\n",
       "      <th>Total</th>\n",
       "    </tr>\n",
       "  </thead>\n",
       "  <tbody>\n",
       "    <tr>\n",
       "      <th>0</th>\n",
       "      <td>China</td>\n",
       "      <td>17800000</td>\n",
       "      <td>63700000</td>\n",
       "      <td>81500000</td>\n",
       "    </tr>\n",
       "    <tr>\n",
       "      <th>1</th>\n",
       "      <td>Indonesia</td>\n",
       "      <td>6584419</td>\n",
       "      <td>16600000</td>\n",
       "      <td>23200000</td>\n",
       "    </tr>\n",
       "    <tr>\n",
       "      <th>2</th>\n",
       "      <td>India</td>\n",
       "      <td>5082332</td>\n",
       "      <td>5703002</td>\n",
       "      <td>10800000</td>\n",
       "    </tr>\n",
       "    <tr>\n",
       "      <th>3</th>\n",
       "      <td>Vietnam</td>\n",
       "      <td>2785940</td>\n",
       "      <td>3634531</td>\n",
       "      <td>6420471</td>\n",
       "    </tr>\n",
       "    <tr>\n",
       "      <th>4</th>\n",
       "      <td>United States</td>\n",
       "      <td>4931017</td>\n",
       "      <td>444369</td>\n",
       "      <td>5375386</td>\n",
       "    </tr>\n",
       "    <tr>\n",
       "      <th>...</th>\n",
       "      <td>...</td>\n",
       "      <td>...</td>\n",
       "      <td>...</td>\n",
       "      <td>...</td>\n",
       "    </tr>\n",
       "    <tr>\n",
       "      <th>212</th>\n",
       "      <td>Andorra</td>\n",
       "      <td>0</td>\n",
       "      <td>0</td>\n",
       "      <td>0</td>\n",
       "    </tr>\n",
       "    <tr>\n",
       "      <th>213</th>\n",
       "      <td>Liechtenstein</td>\n",
       "      <td>0</td>\n",
       "      <td>0</td>\n",
       "      <td>0</td>\n",
       "    </tr>\n",
       "    <tr>\n",
       "      <th>214</th>\n",
       "      <td>Luxembourg</td>\n",
       "      <td>0</td>\n",
       "      <td>0</td>\n",
       "      <td>0</td>\n",
       "    </tr>\n",
       "    <tr>\n",
       "      <th>215</th>\n",
       "      <td>San Marino</td>\n",
       "      <td>0</td>\n",
       "      <td>0</td>\n",
       "      <td>0</td>\n",
       "    </tr>\n",
       "    <tr>\n",
       "      <th>216</th>\n",
       "      <td>Total (2018)</td>\n",
       "      <td>93736944</td>\n",
       "      <td>101084799</td>\n",
       "      <td>199741129</td>\n",
       "    </tr>\n",
       "  </tbody>\n",
       "</table>\n",
       "<p>217 rows × 4 columns</p>\n",
       "</div>"
      ],
      "text/plain": [
       "              País   Capture  Aquicultura      Total\n",
       "0            China  17800000     63700000   81500000\n",
       "1        Indonesia   6584419     16600000   23200000\n",
       "2            India   5082332      5703002   10800000\n",
       "3          Vietnam   2785940      3634531    6420471\n",
       "4    United States   4931017       444369    5375386\n",
       "..             ...       ...          ...        ...\n",
       "212        Andorra         0            0          0\n",
       "213  Liechtenstein         0            0          0\n",
       "214     Luxembourg         0            0          0\n",
       "215     San Marino         0            0          0\n",
       "216   Total (2018)  93736944    101084799  199741129\n",
       "\n",
       "[217 rows x 4 columns]"
      ]
     },
     "execution_count": 10,
     "metadata": {},
     "output_type": "execute_result"
    }
   ],
   "source": [
    "#Imprime as 10 primeiras\n",
    "\n",
    "df.head(217)"
   ]
  },
  {
   "cell_type": "code",
   "execution_count": 11,
   "id": "2c3dd390-62f4-4c21-ab45-0e3f241a263e",
   "metadata": {
    "tags": []
   },
   "outputs": [
    {
     "data": {
      "text/plain": [
       "(217, 4)"
      ]
     },
     "execution_count": 11,
     "metadata": {},
     "output_type": "execute_result"
    }
   ],
   "source": [
    "df.shape #Mostra as informações do data frame"
   ]
  },
  {
   "cell_type": "code",
   "execution_count": 14,
   "id": "83771723-cf76-4f1c-96d7-be811eed2ebc",
   "metadata": {
    "tags": []
   },
   "outputs": [
    {
     "data": {
      "image/png": "[encoded data removed]",
      "text/plain": [
       "<Figure size 1200x600 with 1 Axes>"
      ]
     },
     "metadata": {},
     "output_type": "display_data"
    }
   ],
   "source": [
    "import matplotlib.pyplot as plt\n",
    "\n",
    "# Conte os valores na coluna 'Total' e pegue os 10 países com maior produção de frutos do mar.\n",
    "contagem = df[['País', 'Total']].sort_values(by='Total', ascending=False).head(11)\n",
    "\n",
    "# Crie um gráfico de barras para os 10 países com maior produção de frutos do mar.\n",
    "plt.figure(figsize=(12, 6))\n",
    "plt.bar(contagem['País'], contagem['Total'])\n",
    "plt.xlabel('País')\n",
    "plt.ylabel('Produção Total de Frutos do Mar')\n",
    "plt.title('OS 10 PAÍSES COM MAIOR PRODUÇÃO DE FRUTOS DO MAR NO MUNDO')\n",
    "plt.xticks(rotation=45)\n",
    "plt.show()\n"
   ]
  },
  {
   "cell_type": "code",
   "execution_count": null,
   "id": "77fdc5f9-39da-44de-91e2-ef0360a19c02",
   "metadata": {},
   "outputs": [],
   "source": []
  },
  {
   "cell_type": "code",
   "execution_count": null,
   "id": "07ce3b4c-54f5-4181-8e8f-9663cbebccd4",
   "metadata": {},
   "outputs": [],
   "source": []
  }
 ],
 "metadata": {
  "kernelspec": {
   "display_name": "Python 3 (ipykernel)",
   "language": "python",
   "name": "python3"
  },
  "language_info": {
   "codemirror_mode": {
    "name": "ipython",
    "version": 3
   },
   "file_extension": ".py",
   "mimetype": "text/x-python",
   "name": "python",
   "nbconvert_exporter": "python",
   "pygments_lexer": "ipython3",
   "version": "3.11.5"
  }
 },
 "nbformat": 4,
 "nbformat_minor": 5
}
